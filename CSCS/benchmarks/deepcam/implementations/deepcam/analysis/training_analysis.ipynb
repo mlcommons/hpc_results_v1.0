{
 "cells": [
  {
   "cell_type": "markdown",
   "metadata": {},
   "source": [
    "The MIT License (MIT)\n",
    "\n",
    "Copyright (c) 2020 NVIDIA CORPORATION. All rights reserved.\n",
    "\n",
    "Permission is hereby granted, free of charge, to any person obtaining a copy of this software and associated documentation files (the \"Software\"), to deal in the Software without restriction, including without limitation the rights to use, copy, modify, merge, publish, distribute, sublicense, and/or sell copies of the Software, and to permit persons to whom the Software is furnished to do so, subject to the following conditions:\n",
    "\n",
    "The above copyright notice and this permission notice shall be included in all copies or substantial portions of the Software.\n",
    "\n",
    "THE SOFTWARE IS PROVIDED \"AS IS\", WITHOUT WARRANTY OF ANY KIND, EXPRESS OR IMPLIED, INCLUDING BUT NOT LIMITED TO THE WARRANTIES OF MERCHANTABILITY, FITNESS FOR A PARTICULAR PURPOSE AND NONINFRINGEMENT. IN NO EVENT SHALL THE AUTHORS OR COPYRIGHT HOLDERS BE LIABLE FOR ANY CLAIM, DAMAGES OR OTHER LIABILITY, WHETHER IN AN ACTION OF CONTRACT, TORT OR OTHERWISE, ARISING FROM, OUT OF OR IN CONNECTION WITH THE SOFTWARE OR THE USE OR OTHER DEALINGS IN THE SOFTWARE."
   ]
  },
  {
   "cell_type": "code",
   "execution_count": null,
   "metadata": {},
   "outputs": [],
   "source": [
    "import subprocess as sp\n",
    "import numpy as np\n",
    "import pandas as pd\n",
    "from io import StringIO\n",
    "import os\n",
    "import re\n",
    "import shutil\n",
    "\n",
    "#plotting\n",
    "from matplotlib import pyplot as plt\n",
    "import matplotlib.patches as mlines\n",
    "import matplotlib.patches as mpatches\n",
    "from matplotlib import colors as mcolors\n",
    "import matplotlib.backends.backend_pdf\n",
    "import matplotlib.font_manager as font_manager\n",
    "from matplotlib.ticker import ScalarFormatter\n",
    "from matplotlib.ticker import AutoMinorLocator\n",
    "from matplotlib import gridspec\n",
    "from matplotlib.backends.backend_pdf import PdfPages\n",
    "%matplotlib inline"
   ]
  },
  {
   "cell_type": "markdown",
   "metadata": {},
   "source": [
    "# Global Plot Settings"
   ]
  },
  {
   "cell_type": "code",
   "execution_count": null,
   "metadata": {},
   "outputs": [],
   "source": [
    "#some plot objects\n",
    "lw = 4\n",
    "ms = 250\n",
    "colorlist = ['crimson','dodgerblue','darkorchid','forestgreen','goldenrod','silver','darkorange','turquoise'] \\\n",
    "            +[str(name) for name,hex in mcolors.cnames.items()]\n",
    "markerlist = ['v','s','o','*','^','x','p','8','+','>','<']\n",
    "xoff = 0.\n",
    "xwidth = 0.6\n",
    "\n",
    "plot_target_map = {\"step_num\": \"#steps\", \"time_ms\": \"time [min]\"}"
   ]
  },
  {
   "cell_type": "markdown",
   "metadata": {},
   "source": [
    "# Parser Functions"
   ]
  },
  {
   "cell_type": "code",
   "execution_count": null,
   "metadata": {},
   "outputs": [],
   "source": [
    "logtoken = \":::MLLOG \"\n",
    "\n",
    "def process_line(line):\n",
    "    line.replace(logtoken,\"\")\n",
    "    null = None\n",
    "    NaN = np.nan\n",
    "    return eval(line.replace(logtoken,\"\"))\n",
    "\n",
    "def parse_log(filename):\n",
    "    #get run tag from filename\n",
    "    run_tag, _ = os.path.splitext(os.path.basename(filename))\n",
    "    \n",
    "    # read the data\n",
    "    with open(filename, 'r') as f:\n",
    "        lines = f.readlines()\n",
    "    \n",
    "    # parse the lines\n",
    "    records = []\n",
    "    for line in lines:\n",
    "        if line.startswith(logtoken):\n",
    "            records.append(process_line(line))\n",
    "            \n",
    "    recorddf = pd.DataFrame(records)\n",
    "    recorddf[\"run_tag\"] = run_tag\n",
    "    \n",
    "    return recorddf"
   ]
  },
  {
   "cell_type": "markdown",
   "metadata": {},
   "source": [
    "# Load Data"
   ]
  },
  {
   "cell_type": "code",
   "execution_count": null,
   "metadata": {},
   "outputs": [],
   "source": [
    "logdir = \"../data/logs\"\n",
    "logfiles = [os.path.join(logdir, x) for x in os.listdir(logdir) if x.endswith(\".log\")]\n",
    "\n",
    "# load all logs\n",
    "dflist = []\n",
    "for logfile in logfiles:\n",
    "    print(logfile)\n",
    "    dflist.append(parse_log(logfile))\n",
    "    \n",
    "resultdf = pd.concat(dflist)\n",
    "\n",
    "#sort\n",
    "resultdf.sort_values([\"run_tag\", \"time_ms\"], inplace=True)"
   ]
  },
  {
   "cell_type": "markdown",
   "metadata": {},
   "source": [
    "# Plots"
   ]
  },
  {
   "cell_type": "markdown",
   "metadata": {},
   "source": [
    "## Train loss"
   ]
  },
  {
   "cell_type": "code",
   "execution_count": null,
   "metadata": {},
   "outputs": [],
   "source": [
    "plot_target = \"time_ms\"\n",
    "\n",
    "num_rows = 2\n",
    "num_cols = 2\n",
    "fig, axvec = plt.subplots(figsize=(20*num_cols, 10*num_rows), nrows = num_rows, ncols = num_cols)\n",
    "\n",
    "for idr, metric in enumerate([\"loss\", \"accuracy\"]):\n",
    "    for idc, phase in enumerate([\"train\", \"eval\"]):\n",
    "            \n",
    "        for idx, run_tag in enumerate(resultdf[\"run_tag\"].unique()):\n",
    "            \n",
    "            # project for run first\n",
    "            projdf = resultdf[ resultdf[\"run_tag\"] == run_tag ]\n",
    "            start_time = projdf.loc[ projdf[\"key\"] == \"run_start\", \"time_ms\" ].values[0]    \n",
    "            \n",
    "            # project metric\n",
    "            ykey = phase + \"_\" + metric\n",
    "            seldf = projdf.loc[ projdf[\"key\"] == ykey, [\"time_ms\", \"metadata\", \"value\"] ]\n",
    "            \n",
    "            # sort again\n",
    "            #seldf.sort_values([\"\"], inplace=True)\n",
    "            \n",
    "            #did we reach the target accuracy?\n",
    "            if plot_target == \"time_ms\":\n",
    "                targetdf = (projdf.loc[ projdf[\"key\"] == \"target_accuracy_reached\", \"time_ms\" ] - start_time) / 1000. / 60.\n",
    "            elif plot_target == \"step_num\":\n",
    "                targetdf = projdf.loc[ projdf[\"key\"] == \"target_accuracy_reached\", \"metadata\" ].apply(lambda x: x[\"step_num\"])\n",
    "            x_target = None\n",
    "            if not targetdf.empty:\n",
    "                x_target = targetdf.values[0]\n",
    "            \n",
    "            #what do we plot against what\n",
    "            if plot_target == \"time_ms\":\n",
    "                xval = (seldf[ \"time_ms\" ].values - start_time) / 1000. / 60.\n",
    "            elif plot_target == \"step_num\":\n",
    "                xval = seldf[\"metadata\"].apply(lambda x: x[\"step_num\"]).values\n",
    "            yval = seldf[\"value\"].values\n",
    "            \n",
    "            # extract axes and set font size etc\n",
    "            ax = axvec[idr, idc]\n",
    "            #format the plot\n",
    "            for label in (ax.get_xticklabels() + ax.get_yticklabels()):\n",
    "                label.set_fontsize(32)\n",
    "            ax.set_ylabel(ykey, size = 40)\n",
    "\n",
    "            #tick labels\n",
    "            ax.set_xlabel(plot_target_map[plot_target], size = 40)\n",
    "            ax.tick_params(axis=u'x', which=u'both',length=0)\n",
    "            \n",
    "            #plot\n",
    "            ax.plot(xval, yval, lw = lw, color = colorlist[idx], label = run_tag)\n",
    "            #ax.scatter(xval, yval, s = ms, color = colorlist[idx], label = run_tag)\n",
    "            \n",
    "            #target\n",
    "            if x_target is not None:\n",
    "                ax.axvline(x = x_target, lw = lw // 2, ls = \"--\", color = colorlist[idx], alpha=0.7)\n",
    "        \n",
    "        location = \"upper right\" if metric == \"loss\" else \"lower right\"\n",
    "        ax.legend(loc = location, ncol = 1, frameon = False, fontsize = 26)\n",
    "    \n",
    "plt.tight_layout()"
   ]
  },
  {
   "cell_type": "code",
   "execution_count": null,
   "metadata": {},
   "outputs": [],
   "source": [
    "resultdf[ resultdf.run_tag == \"deepcam_prediction_run5_nnodes64-13-debug\" ]"
   ]
  },
  {
   "cell_type": "code",
   "execution_count": null,
   "metadata": {},
   "outputs": [],
   "source": []
  }
 ],
 "metadata": {
  "kernelspec": {
   "display_name": "Python 3",
   "language": "python",
   "name": "python3"
  },
  "language_info": {
   "codemirror_mode": {
    "name": "ipython",
    "version": 3
   },
   "file_extension": ".py",
   "mimetype": "text/x-python",
   "name": "python",
   "nbconvert_exporter": "python",
   "pygments_lexer": "ipython3",
   "version": "3.7.4"
  }
 },
 "nbformat": 4,
 "nbformat_minor": 2
}
